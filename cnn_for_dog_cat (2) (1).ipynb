{
  "nbformat": 4,
  "nbformat_minor": 0,
  "metadata": {
    "colab": {
      "provenance": [],
      "collapsed_sections": []
    },
    "kernelspec": {
      "name": "python3",
      "display_name": "Python 3"
    },
    "language_info": {
      "name": "python"
    }
  },
  "cells": [
    {
      "cell_type": "code",
      "execution_count": null,
      "metadata": {
        "colab": {
          "base_uri": "https://localhost:8080/"
        },
        "id": "nK15L761L747",
        "outputId": "08bb4699-a3ea-46ec-ca76-be381614df84"
      },
      "outputs": [
        {
          "output_type": "stream",
          "name": "stdout",
          "text": [
            "Cloning into 'GV_DeepLearning'...\n",
            "remote: Enumerating objects: 979, done.\u001b[K\n",
            "remote: Counting objects: 100% (26/26), done.\u001b[K\n",
            "remote: Compressing objects: 100% (24/24), done.\u001b[K\n",
            "remote: Total 979 (delta 10), reused 1 (delta 0), pack-reused 953\u001b[K\n",
            "Receiving objects: 100% (979/979), 18.10 MiB | 25.39 MiB/s, done.\n",
            "Resolving deltas: 100% (41/41), done.\n"
          ]
        }
      ],
      "source": [
        "!git clone \"https://github.com/vadivukar/GV_DeepLearning.git/\""
      ]
    },
    {
      "cell_type": "code",
      "source": [
        "from google.colab import drive\n",
        "drive.mount('/content/drive')"
      ],
      "metadata": {
        "colab": {
          "base_uri": "https://localhost:8080/"
        },
        "id": "kAsQ55im6XhU",
        "outputId": "90e41fa5-29e5-4a97-fb12-8d2b77f7e6ab"
      },
      "execution_count": 1,
      "outputs": [
        {
          "output_type": "stream",
          "name": "stdout",
          "text": [
            "Drive already mounted at /content/drive; to attempt to forcibly remount, call drive.mount(\"/content/drive\", force_remount=True).\n"
          ]
        }
      ]
    },
    {
      "cell_type": "code",
      "source": [
        "import tensorflow as tf\n",
        "from keras.preprocessing.image import ImageDataGenerator"
      ],
      "metadata": {
        "id": "SwT_-h-RMgXR"
      },
      "execution_count": 2,
      "outputs": []
    },
    {
      "cell_type": "code",
      "source": [
        "tf.__version__"
      ],
      "metadata": {
        "colab": {
          "base_uri": "https://localhost:8080/",
          "height": 35
        },
        "id": "rmiKFedkMNmM",
        "outputId": "883c9fc6-8c22-4438-c8b2-24fb5e911e61"
      },
      "execution_count": 3,
      "outputs": [
        {
          "output_type": "execute_result",
          "data": {
            "text/plain": [
              "'2.8.2'"
            ],
            "application/vnd.google.colaboratory.intrinsic+json": {
              "type": "string"
            }
          },
          "metadata": {},
          "execution_count": 3
        }
      ]
    },
    {
      "cell_type": "code",
      "source": [
        "train_datagen = ImageDataGenerator(rescale = 1./255,\n",
        "                                   shear_range = 0.2,\n",
        "                                   zoom_range = 0.2,\n",
        "                                   horizontal_flip = True)\n",
        "training_set = train_datagen.flow_from_directory('/content/drive/MyDrive/dataset /dataset cnn dog cat/training_set',\n",
        "                                                 target_size = (64, 64),\n",
        "                                                 batch_size = 32,\n",
        "                                                 class_mode = 'binary')"
      ],
      "metadata": {
        "colab": {
          "base_uri": "https://localhost:8080/"
        },
        "id": "jqkSzNwlNnGY",
        "outputId": "1f313357-d8aa-4846-abf3-3e6553c6fe33"
      },
      "execution_count": 5,
      "outputs": [
        {
          "output_type": "stream",
          "name": "stdout",
          "text": [
            "Found 100 images belonging to 2 classes.\n"
          ]
        }
      ]
    },
    {
      "cell_type": "code",
      "source": [
        "test_datagen = ImageDataGenerator(rescale = 1./255)\n",
        "test_set = test_datagen.flow_from_directory('/content/drive/MyDrive/dataset /dataset cnn dog cat/test_set',\n",
        "                                            target_size = (64, 64),\n",
        "                                            batch_size = 32,\n",
        "                                            class_mode = 'binary')"
      ],
      "metadata": {
        "colab": {
          "base_uri": "https://localhost:8080/"
        },
        "id": "-WpyotUpN8EK",
        "outputId": "616f401f-643b-4605-f87f-fad8b64ba836"
      },
      "execution_count": 6,
      "outputs": [
        {
          "output_type": "stream",
          "name": "stdout",
          "text": [
            "Found 20 images belonging to 2 classes.\n"
          ]
        }
      ]
    },
    {
      "cell_type": "code",
      "source": [
        "cnn = tf.keras.models.Sequential()"
      ],
      "metadata": {
        "id": "2lpkDn8WODHg"
      },
      "execution_count": 7,
      "outputs": []
    },
    {
      "cell_type": "code",
      "source": [
        "cnn.add(tf.keras.layers.Conv2D(filters=32, kernel_size=3, activation='relu', input_shape=[64, 64, 3]))"
      ],
      "metadata": {
        "id": "N86reAImOKim"
      },
      "execution_count": 8,
      "outputs": []
    },
    {
      "cell_type": "code",
      "source": [
        "cnn.add(tf.keras.layers.MaxPool2D(pool_size=2, strides=2))"
      ],
      "metadata": {
        "id": "7ixYgaUhOOg3"
      },
      "execution_count": 9,
      "outputs": []
    },
    {
      "cell_type": "code",
      "source": [
        "cnn.add(tf.keras.layers.Conv2D(filters=32, kernel_size=3, activation='relu'))\n",
        "cnn.add(tf.keras.layers.MaxPool2D(pool_size=2, strides=2))"
      ],
      "metadata": {
        "id": "ZCpogzsIOScD"
      },
      "execution_count": 10,
      "outputs": []
    },
    {
      "cell_type": "code",
      "source": [
        "cnn.add(tf.keras.layers.Flatten())"
      ],
      "metadata": {
        "id": "LpQb1GkhOwdV"
      },
      "execution_count": 11,
      "outputs": []
    },
    {
      "cell_type": "code",
      "source": [
        "cnn.add(tf.keras.layers.Dense(units=128, activation='relu'))"
      ],
      "metadata": {
        "id": "0xWxPD1DOzno"
      },
      "execution_count": 12,
      "outputs": []
    },
    {
      "cell_type": "code",
      "source": [
        "cnn.add(tf.keras.layers.Dense(units=1, activation='sigmoid'))"
      ],
      "metadata": {
        "id": "t0gFJcqKO3ad"
      },
      "execution_count": 13,
      "outputs": []
    },
    {
      "cell_type": "code",
      "source": [
        "cnn.compile(optimizer = 'adam', loss = 'binary_crossentropy', metrics = ['accuracy'])"
      ],
      "metadata": {
        "id": "QYoOGouCO7JF"
      },
      "execution_count": 14,
      "outputs": []
    },
    {
      "cell_type": "code",
      "source": [
        "cnn.fit(x = training_set, validation_data = test_set, epochs = 20)"
      ],
      "metadata": {
        "colab": {
          "base_uri": "https://localhost:8080/"
        },
        "id": "tziUbNpbO9y-",
        "outputId": "d77355db-f463-417f-d7eb-5d9e5c5d97f9"
      },
      "execution_count": 15,
      "outputs": [
        {
          "output_type": "stream",
          "name": "stdout",
          "text": [
            "Epoch 1/20\n",
            "4/4 [==============================] - 24s 7s/step - loss: 0.7379 - accuracy: 0.4600 - val_loss: 0.7069 - val_accuracy: 0.4000\n",
            "Epoch 2/20\n",
            "4/4 [==============================] - 1s 319ms/step - loss: 0.6806 - accuracy: 0.5500 - val_loss: 0.7431 - val_accuracy: 0.5000\n",
            "Epoch 3/20\n",
            "4/4 [==============================] - 1s 416ms/step - loss: 0.6976 - accuracy: 0.5100 - val_loss: 0.7303 - val_accuracy: 0.5000\n",
            "Epoch 4/20\n",
            "4/4 [==============================] - 1s 392ms/step - loss: 0.6639 - accuracy: 0.6700 - val_loss: 0.7337 - val_accuracy: 0.4500\n",
            "Epoch 5/20\n",
            "4/4 [==============================] - 1s 301ms/step - loss: 0.6393 - accuracy: 0.6700 - val_loss: 0.7799 - val_accuracy: 0.4500\n",
            "Epoch 6/20\n",
            "4/4 [==============================] - 1s 263ms/step - loss: 0.6122 - accuracy: 0.6100 - val_loss: 0.8700 - val_accuracy: 0.3000\n",
            "Epoch 7/20\n",
            "4/4 [==============================] - 1s 254ms/step - loss: 0.5803 - accuracy: 0.6800 - val_loss: 1.0323 - val_accuracy: 0.3500\n",
            "Epoch 8/20\n",
            "4/4 [==============================] - 1s 380ms/step - loss: 0.5831 - accuracy: 0.6400 - val_loss: 0.9507 - val_accuracy: 0.3000\n",
            "Epoch 9/20\n",
            "4/4 [==============================] - 1s 264ms/step - loss: 0.5798 - accuracy: 0.6700 - val_loss: 0.8547 - val_accuracy: 0.4000\n",
            "Epoch 10/20\n",
            "4/4 [==============================] - 1s 372ms/step - loss: 0.5559 - accuracy: 0.6600 - val_loss: 0.8302 - val_accuracy: 0.5500\n",
            "Epoch 11/20\n",
            "4/4 [==============================] - 1s 376ms/step - loss: 0.4978 - accuracy: 0.7600 - val_loss: 0.8202 - val_accuracy: 0.3500\n",
            "Epoch 12/20\n",
            "4/4 [==============================] - 1s 271ms/step - loss: 0.5098 - accuracy: 0.7000 - val_loss: 0.8457 - val_accuracy: 0.3500\n",
            "Epoch 13/20\n",
            "4/4 [==============================] - 1s 275ms/step - loss: 0.4904 - accuracy: 0.7900 - val_loss: 0.9397 - val_accuracy: 0.6500\n",
            "Epoch 14/20\n",
            "4/4 [==============================] - 1s 291ms/step - loss: 0.6232 - accuracy: 0.6200 - val_loss: 0.7975 - val_accuracy: 0.6000\n",
            "Epoch 15/20\n",
            "4/4 [==============================] - 1s 286ms/step - loss: 0.4780 - accuracy: 0.7900 - val_loss: 0.8048 - val_accuracy: 0.4000\n",
            "Epoch 16/20\n",
            "4/4 [==============================] - 1s 284ms/step - loss: 0.4755 - accuracy: 0.8000 - val_loss: 0.8681 - val_accuracy: 0.5500\n",
            "Epoch 17/20\n",
            "4/4 [==============================] - 1s 379ms/step - loss: 0.4614 - accuracy: 0.7500 - val_loss: 0.9068 - val_accuracy: 0.5000\n",
            "Epoch 18/20\n",
            "4/4 [==============================] - 1s 276ms/step - loss: 0.4419 - accuracy: 0.8300 - val_loss: 0.9162 - val_accuracy: 0.5000\n",
            "Epoch 19/20\n",
            "4/4 [==============================] - 1s 264ms/step - loss: 0.3924 - accuracy: 0.8200 - val_loss: 1.1619 - val_accuracy: 0.6000\n",
            "Epoch 20/20\n",
            "4/4 [==============================] - 1s 277ms/step - loss: 0.4283 - accuracy: 0.8000 - val_loss: 1.0445 - val_accuracy: 0.3500\n"
          ]
        },
        {
          "output_type": "execute_result",
          "data": {
            "text/plain": [
              "<keras.callbacks.History at 0x7f695e969d50>"
            ]
          },
          "metadata": {},
          "execution_count": 15
        }
      ]
    },
    {
      "cell_type": "code",
      "source": [
        "import numpy as np\n",
        "from keras.preprocessing import image\n",
        "test_image = image.load_img('/content/drive/MyDrive/dataset /dataset cnn dog cat/single_prediction/cat_or_dog_1.jpg', target_size = (64, 64))\n",
        "test_image = image.img_to_array(test_image)\n",
        "test_image = np.expand_dims(test_image, axis = 0)\n",
        "result = cnn.predict(test_image)\n",
        "training_set.class_indices\n",
        "if result[0][0] == 1:\n",
        "  prediction = 'dog'\n",
        "else:\n",
        "  prediction = 'cat'"
      ],
      "metadata": {
        "id": "1tLwUrY1PAQ0"
      },
      "execution_count": 21,
      "outputs": []
    },
    {
      "cell_type": "code",
      "source": [
        "print(prediction)"
      ],
      "metadata": {
        "colab": {
          "base_uri": "https://localhost:8080/"
        },
        "id": "g2NoBzTUP35U",
        "outputId": "ae1c868e-458a-4a5b-a525-6fc7b2c20c2c"
      },
      "execution_count": 22,
      "outputs": [
        {
          "output_type": "stream",
          "name": "stdout",
          "text": [
            "dog\n"
          ]
        }
      ]
    },
    {
      "cell_type": "code",
      "source": [],
      "metadata": {
        "id": "4FXY0diaP6hB"
      },
      "execution_count": null,
      "outputs": []
    }
  ]
}